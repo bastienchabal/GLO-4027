{
 "cells": [
  {
   "cell_type": "code",
   "execution_count": 2,
   "metadata": {
    "collapsed": true
   },
   "outputs": [],
   "source": [
    "import pandas as pd\n",
    "import numpy as np\n",
    "import matplotlib.pyplot as plt\n",
    "import matplotlib.dates as mdates\n",
    "import seaborn as sn"
   ]
  },
  {
   "cell_type": "markdown",
   "metadata": {},
   "source": [
    "# 1. Visualisation des données"
   ]
  },
  {
   "cell_type": "code",
   "execution_count": 3,
   "metadata": {},
   "outputs": [
    {
     "data": {
      "text/html": [
       "<div>\n",
       "<style>\n",
       "    .dataframe thead tr:only-child th {\n",
       "        text-align: right;\n",
       "    }\n",
       "\n",
       "    .dataframe thead th {\n",
       "        text-align: left;\n",
       "    }\n",
       "\n",
       "    .dataframe tbody tr th {\n",
       "        vertical-align: top;\n",
       "    }\n",
       "</style>\n",
       "<table border=\"1\" class=\"dataframe\">\n",
       "  <thead>\n",
       "    <tr style=\"text-align: right;\">\n",
       "      <th></th>\n",
       "      <th>datetime</th>\n",
       "      <th>season</th>\n",
       "      <th>holiday</th>\n",
       "      <th>workingday</th>\n",
       "      <th>weather</th>\n",
       "      <th>temp</th>\n",
       "      <th>atemp</th>\n",
       "      <th>humidity</th>\n",
       "      <th>windspeed</th>\n",
       "      <th>casual</th>\n",
       "      <th>registered</th>\n",
       "      <th>count</th>\n",
       "    </tr>\n",
       "  </thead>\n",
       "  <tbody>\n",
       "    <tr>\n",
       "      <th>0</th>\n",
       "      <td>2011-01-01 00:00:00</td>\n",
       "      <td>1</td>\n",
       "      <td>0</td>\n",
       "      <td>0</td>\n",
       "      <td>1</td>\n",
       "      <td>9.84</td>\n",
       "      <td>14.395</td>\n",
       "      <td>81</td>\n",
       "      <td>0.0</td>\n",
       "      <td>3</td>\n",
       "      <td>13</td>\n",
       "      <td>16</td>\n",
       "    </tr>\n",
       "    <tr>\n",
       "      <th>1</th>\n",
       "      <td>2011-01-01 01:00:00</td>\n",
       "      <td>1</td>\n",
       "      <td>0</td>\n",
       "      <td>0</td>\n",
       "      <td>1</td>\n",
       "      <td>9.02</td>\n",
       "      <td>13.635</td>\n",
       "      <td>80</td>\n",
       "      <td>0.0</td>\n",
       "      <td>8</td>\n",
       "      <td>32</td>\n",
       "      <td>40</td>\n",
       "    </tr>\n",
       "    <tr>\n",
       "      <th>2</th>\n",
       "      <td>2011-01-01 02:00:00</td>\n",
       "      <td>1</td>\n",
       "      <td>0</td>\n",
       "      <td>0</td>\n",
       "      <td>1</td>\n",
       "      <td>9.02</td>\n",
       "      <td>13.635</td>\n",
       "      <td>80</td>\n",
       "      <td>0.0</td>\n",
       "      <td>5</td>\n",
       "      <td>27</td>\n",
       "      <td>32</td>\n",
       "    </tr>\n",
       "    <tr>\n",
       "      <th>3</th>\n",
       "      <td>2011-01-01 03:00:00</td>\n",
       "      <td>1</td>\n",
       "      <td>0</td>\n",
       "      <td>0</td>\n",
       "      <td>1</td>\n",
       "      <td>9.84</td>\n",
       "      <td>14.395</td>\n",
       "      <td>75</td>\n",
       "      <td>0.0</td>\n",
       "      <td>3</td>\n",
       "      <td>10</td>\n",
       "      <td>13</td>\n",
       "    </tr>\n",
       "    <tr>\n",
       "      <th>4</th>\n",
       "      <td>2011-01-01 04:00:00</td>\n",
       "      <td>1</td>\n",
       "      <td>0</td>\n",
       "      <td>0</td>\n",
       "      <td>1</td>\n",
       "      <td>9.84</td>\n",
       "      <td>14.395</td>\n",
       "      <td>75</td>\n",
       "      <td>0.0</td>\n",
       "      <td>0</td>\n",
       "      <td>1</td>\n",
       "      <td>1</td>\n",
       "    </tr>\n",
       "  </tbody>\n",
       "</table>\n",
       "</div>"
      ],
      "text/plain": [
       "              datetime  season  holiday  workingday  weather  temp   atemp  \\\n",
       "0  2011-01-01 00:00:00       1        0           0        1  9.84  14.395   \n",
       "1  2011-01-01 01:00:00       1        0           0        1  9.02  13.635   \n",
       "2  2011-01-01 02:00:00       1        0           0        1  9.02  13.635   \n",
       "3  2011-01-01 03:00:00       1        0           0        1  9.84  14.395   \n",
       "4  2011-01-01 04:00:00       1        0           0        1  9.84  14.395   \n",
       "\n",
       "   humidity  windspeed  casual  registered  count  \n",
       "0        81        0.0       3          13     16  \n",
       "1        80        0.0       8          32     40  \n",
       "2        80        0.0       5          27     32  \n",
       "3        75        0.0       3          10     13  \n",
       "4        75        0.0       0           1      1  "
      ]
     },
     "metadata": {},
     "output_type": "display_data"
    }
   ],
   "source": [
    "globalVisionData = pd.read_csv('data/train.csv')\n",
    "display(globalVisionData.head())"
   ]
  },
  {
   "cell_type": "code",
   "execution_count": 4,
   "metadata": {},
   "outputs": [
    {
     "data": {
      "text/plain": [
       "(10886, 12)"
      ]
     },
     "execution_count": 4,
     "metadata": {},
     "output_type": "execute_result"
    }
   ],
   "source": [
    "globalVisionData.shape"
   ]
  },
  {
   "cell_type": "code",
   "execution_count": 5,
   "metadata": {},
   "outputs": [
    {
     "data": {
      "image/png": "[encoded data removed]",
      "text/plain": [
       "<matplotlib.figure.Figure at 0x1165ccd68>"
      ]
     },
     "metadata": {},
     "output_type": "display_data"
    }
   ],
   "source": [
    "globalVisionData.datetime = pd.to_datetime(globalVisionData.datetime)\n",
    "globalVisionData.index = globalVisionData.datetime\n",
    "\n",
    "globalVisionData.casual.plot(figsize=(19,9), title=\"Bike Sharing\", fontsize=14)\n",
    "plt.show()"
   ]
  },
  {
   "cell_type": "markdown",
   "metadata": {},
   "source": [
    "# 2. Transformation des données"
   ]
  },
  {
   "cell_type": "markdown",
   "metadata": {},
   "source": [
    "##   2.1. Importation des données"
   ]
  },
  {
   "cell_type": "code",
   "execution_count": 6,
   "metadata": {
    "collapsed": true
   },
   "outputs": [],
   "source": [
    "dataTrain = pd.read_csv('data/train.csv') # 1 au 19 du mois (avec count)\n",
    "dataTest = pd.read_csv('data/test.csv') # 19 à fin du mois (sans count)"
   ]
  },
  {
   "cell_type": "markdown",
   "metadata": {},
   "source": [
    "`data` va correspondre à la concaténation de `dataTrain` et `dataTest` (soit l'ensemble des dates)."
   ]
  },
  {
   "cell_type": "code",
   "execution_count": 7,
   "metadata": {},
   "outputs": [],
   "source": [
    "data = dataTrain.append(dataTest)\n",
    "data.reset_index(inplace=True)\n",
    "data.drop('index',inplace=True,axis=1)"
   ]
  },
  {
   "cell_type": "markdown",
   "metadata": {},
   "source": [
    "## 2.2. Ajouts de nouvelles colonnes\n",
    "\n",
    "La date va être découpée en plusieurs colonnes correspondantes chacunes à une unité temporelle"
   ]
  },
  {
   "cell_type": "code",
   "execution_count": 8,
   "metadata": {
    "collapsed": true
   },
   "outputs": [],
   "source": [
    "import calendar\n",
    "from datetime import datetime\n",
    "\n",
    "data[\"date\"] = data.datetime.apply(lambda x : x.split()[0])\n",
    "data[\"hour\"] = data.datetime.apply(lambda x : x.split()[1].split(\":\")[0]).astype(\"int\")\n",
    "data[\"year\"] = data.datetime.apply(lambda x : x.split()[0].split(\"-\")[0])\n",
    "data[\"weekday\"] = data.date.apply(lambda dateString : datetime.strptime(dateString,\"%Y-%m-%d\").weekday())\n",
    "data[\"month\"] = data.date.apply(lambda dateString : datetime.strptime(dateString,\"%Y-%m-%d\").month)"
   ]
  },
  {
   "cell_type": "markdown",
   "metadata": {},
   "source": [
    "## 2.3. Classification des attributs\n",
    "\n",
    "Nous avons donc 3 types de valeurs différentes:\n",
    "- Les attributs que l'on nomme `categoricalAttributeNames`: ce sont des entiers qui représentent des catégories (par exemple, season=1 représente le premier quart de l'année).\n",
    "- les attributs numériques que l'on nomme `numericalAttributeNames`: ce sont des float qui représente une mesure numérique.\n",
    "- les attributs qu'on ne souhaite pas conserver dans l'entrainement du model (que l'on nomme) `dropAttributes` car:\n",
    "    - ce sont les attributs que l'on souhaite prédire (l'attribut count)\n",
    "    - ce sont des attributs redondants (par exemple datetime)"
   ]
  },
  {
   "cell_type": "code",
   "execution_count": 9,
   "metadata": {},
   "outputs": [
    {
     "name": "stdout",
     "output_type": "stream",
     "text": [
      "atemp         float64\n",
      "casual        float64\n",
      "count         float64\n",
      "datetime       object\n",
      "holiday         int64\n",
      "humidity        int64\n",
      "registered    float64\n",
      "season          int64\n",
      "temp          float64\n",
      "weather         int64\n",
      "windspeed     float64\n",
      "workingday      int64\n",
      "date           object\n",
      "hour            int64\n",
      "year           object\n",
      "weekday         int64\n",
      "month           int64\n",
      "dtype: object\n"
     ]
    }
   ],
   "source": [
    "categoricalAttributeNames = [\"season\",\"holiday\",\"workingday\",\"weather\",\"weekday\",\"month\",\"year\",\"hour\"]\n",
    "numericalAttributeNames = [\"temp\",\"humidity\",\"windspeed\",\"atemp\"]\n",
    "dropAttributes = [\"casual\",\"count\",\"datetime\",\"date\",\"registered\"]\n",
    "\n",
    "print(data.dtypes)"
   ]
  },
  {
   "cell_type": "markdown",
   "metadata": {},
   "source": [
    "Via la librairie `pandas`, on cast le type d'attribut vers `category` pour tous les attributs de la liste `categoricalAttributeNames`"
   ]
  },
  {
   "cell_type": "code",
   "execution_count": 10,
   "metadata": {
    "collapsed": true
   },
   "outputs": [],
   "source": [
    "for var in categoricalAttributeNames:\n",
    "    data[var] = data[var].astype(\"category\")"
   ]
  },
  {
   "cell_type": "markdown",
   "metadata": {},
   "source": [
    "# 3. Prédiction"
   ]
  },
  {
   "cell_type": "markdown",
   "metadata": {},
   "source": [
    "## 3.1. RMSLE Scorer\n",
    "\n",
    "Afin de juger de la qualité de nos prédictions pour chacun des différents modèles, on définit un RSMLE scorer :"
   ]
  },
  {
   "cell_type": "code",
   "execution_count": 11,
   "metadata": {
    "collapsed": true
   },
   "outputs": [],
   "source": [
    "def rmsle(y, y_):\n",
    "    log1 = np.nan_to_num(np.array([np.log(v + 1) for v in y]))\n",
    "    log2 = np.nan_to_num(np.array([np.log(v + 1) for v in y_]))\n",
    "    calc = (log1 - log2) ** 2\n",
    "    return np.sqrt(np.mean(calc))"
   ]
  },
  {
   "cell_type": "markdown",
   "metadata": {},
   "source": [
    "Ce scorer exprime de la valeur de la dissimilarité entre notre prédiction (attribut `y`) et les valeurs réelles (attribut `y_`)."
   ]
  },
  {
   "cell_type": "markdown",
   "metadata": {},
   "source": [
    "## 3.2. Séparation des données d'entraînement et de test \n",
    "\n",
    "Pour entrainer le modèle, on re-divise `data` en `dataTrain` (là où on connait l'attribut count) et `dataTest` (là où on doit prédire l'attribut count)"
   ]
  },
  {
   "cell_type": "code",
   "execution_count": 12,
   "metadata": {},
   "outputs": [],
   "source": [
    "dataTrain = data[pd.notnull(data['count'])].sort_values(by=[\"datetime\"])\n",
    "dataTest = data[~pd.notnull(data['count'])].sort_values(by=[\"datetime\"])\n",
    "datetimecol = dataTest[\"datetime\"]\n",
    "yLabels = dataTrain[\"count\"]"
   ]
  },
  {
   "cell_type": "markdown",
   "metadata": {},
   "source": [
    "## 3.3. Division des données pour apprentissage supervisé"
   ]
  },
  {
   "cell_type": "markdown",
   "metadata": {},
   "source": [
    "On souhaite mettre en place un apprentissage supervisé.\n",
    "Ainsi, on divise `dataTrain` de cette façon :\n",
    "    - 70% pour l'entraînement\n",
    "    - 30% pour la validation \n",
    "    \n",
    "On utilise scikit-learn et la fonction `train_test_split()` pour séparer ces données."
   ]
  },
  {
   "cell_type": "code",
   "execution_count": 13,
   "metadata": {
    "collapsed": true
   },
   "outputs": [],
   "source": [
    "from sklearn.model_selection import train_test_split\n",
    "\n",
    "X_train, X_validate, y_train, y_validate = train_test_split(dataTrain, yLabels, test_size=0.3, random_state=23)"
   ]
  },
  {
   "cell_type": "markdown",
   "metadata": {},
   "source": [
    "## 3.4 Suppression d'attributs"
   ]
  },
  {
   "cell_type": "code",
   "execution_count": 14,
   "metadata": {
    "collapsed": true
   },
   "outputs": [],
   "source": [
    "dataTrain  = dataTrain.drop(dropAttributes,axis=1)\n",
    "dataTest  = dataTest.drop(dropAttributes,axis=1)\n",
    "X_train = X_train.drop(dropAttributes,axis=1)\n",
    "X_validate = X_validate.drop(dropAttributes,axis=1)"
   ]
  },
  {
   "cell_type": "markdown",
   "metadata": {},
   "source": [
    "## 3.5 Création du Modèle Gradient Boosting"
   ]
  },
  {
   "cell_type": "code",
   "execution_count": 18,
   "metadata": {},
   "outputs": [
    {
     "name": "stdout",
     "output_type": "stream",
     "text": [
      "RMSLE Value for Gradient Booster:  0.3996840738860081\n"
     ]
    }
   ],
   "source": [
    "from sklearn.ensemble import GradientBoostingRegressor\n",
    "from sklearn.model_selection import GridSearchCV\n",
    "\n",
    "gbm = GradientBoostingRegressor()\n",
    "gbm.fit(X = X_train,y = np.log1p(y_train))\n",
    "\n",
    "preds = gbm.predict(X= X_validate)\n",
    "\n",
    "print (\"RMSLE Value for Gradient Boosting: \",rmsle(y_validate,np.exp(preds)))"
   ]
  },
  {
   "cell_type": "markdown",
   "metadata": {},
   "source": [
    "### 3.5.1 Amélioration de Gradient Boosting avec paramètres"
   ]
  },
  {
   "cell_type": "code",
   "execution_count": 42,
   "metadata": {},
   "outputs": [
    {
     "name": "stdout",
     "output_type": "stream",
     "text": [
      "{'n_estimators': 1000}\n",
      "RMSLE Value:  0.3000087780534826\n"
     ]
    }
   ],
   "source": [
    "gbm = GradientBoostingRegressor()\n",
    "\n",
    "param_grid = { \n",
    "    'n_estimators': [1000, 2000, 3000, 4000]\n",
    "}\n",
    "\n",
    "CV_gbm=GridSearchCV(estimator=gbm,param_grid=param_grid,cv=5)\n",
    "CV_gbm.fit(X = X_train,y = np.log1p(y_train))\n",
    "\n",
    "print (CV_gbm.best_params_)\n",
    "preds = CV_gbm.predict(X= X_validate)\n",
    "print (\"RMSLE Value: \",rmsle(y_validate,np.exp(preds)))"
   ]
  },
  {
   "cell_type": "markdown",
   "metadata": {},
   "source": [
    "## 3.6 Comparaison avec Random Forest (rapport 3)"
   ]
  },
  {
   "cell_type": "code",
   "execution_count": 19,
   "metadata": {},
   "outputs": [
    {
     "name": "stdout",
     "output_type": "stream",
     "text": [
      "RMSLE Value for Random Forest:  0.3564425779906299\n"
     ]
    }
   ],
   "source": [
    "from sklearn.ensemble import RandomForestRegressor\n",
    "\n",
    "# Initialisation du modèle\n",
    "rfModel = RandomForestRegressor()\n",
    "\n",
    "# Entrainement du modèle sur 70%\n",
    "rfModel.fit(X = X_train,y = y_train)\n",
    "\n",
    "# Prédiction sur les 30%\n",
    "preds = rfModel.predict(X=X_validate)\n",
    "\n",
    "print (\"RMSLE Value for Random Forest: \", rmsle(y_validate, preds))"
   ]
  },
  {
   "cell_type": "markdown",
   "metadata": {},
   "source": [
    "On a donc un RMSLE De 0.399 pour Gradient Boosting et 0.356 pour RandomForest. On pourrait améliorer le modèle de Gradient Boosting avec des paramètres, mais nous allons d'abord diviser le problème en deux parties : casual et registered. Nous allons appliquer ces modèles sur les deux attributs spécifiques séparement et voir lequel est meilleur pour chacun."
   ]
  },
  {
   "cell_type": "markdown",
   "metadata": {},
   "source": [
    "# 4. Séparation des prédictions de casual et registered"
   ]
  },
  {
   "cell_type": "code",
   "execution_count": 27,
   "metadata": {
    "collapsed": true
   },
   "outputs": [],
   "source": [
    "dataTrain = pd.read_csv('data/train.csv') # 1 au 19 du mois (avec count)\n",
    "dataTest = pd.read_csv('data/test.csv') # 19 à fin du mois (sans count)\n",
    "\n",
    "data = dataTrain.append(dataTest)\n",
    "data.reset_index(inplace=True)\n",
    "data.drop('index',inplace=True,axis=1)\n",
    "\n",
    "data[\"date\"] = data.datetime.apply(lambda x : x.split()[0])\n",
    "data[\"hour\"] = data.datetime.apply(lambda x : x.split()[1].split(\":\")[0]).astype(\"int\")\n",
    "data[\"year\"] = data.datetime.apply(lambda x : x.split()[0].split(\"-\")[0])\n",
    "data[\"weekday\"] = data.date.apply(lambda dateString : datetime.strptime(dateString,\"%Y-%m-%d\").weekday())\n",
    "data[\"month\"] = data.date.apply(lambda dateString : datetime.strptime(dateString,\"%Y-%m-%d\").month)\n",
    "\n",
    "\n",
    "categoricalAttributeNames = [\"season\",\"holiday\",\"workingday\",\"weather\",\"weekday\",\"month\",\"year\",\"hour\"]\n",
    "numericalAttributeNames = [\"temp\",\"humidity\",\"windspeed\",\"atemp\"]\n",
    "dropAttributes = [\"casual\",\"count\",\"datetime\",\"date\",\"registered\"]\n",
    "\n",
    "for var in categoricalAttributeNames:\n",
    "    data[var] = data[var].astype(\"category\")\n",
    "\n",
    "dataTrain = data[pd.notnull(data['count'])].sort_values(by=[\"datetime\"])\n",
    "dataTest = data[~pd.notnull(data['count'])].sort_values(by=[\"datetime\"])\n",
    "datetimecol = dataTest[\"datetime\"]"
   ]
  },
  {
   "cell_type": "markdown",
   "metadata": {},
   "source": [
    "## 4.1. Division pour l'attribut casual"
   ]
  },
  {
   "cell_type": "code",
   "execution_count": 28,
   "metadata": {},
   "outputs": [],
   "source": [
    "X_train_casual, X_validate_casual, y_train_casual, y_validate_casual = train_test_split(dataTrain, dataTrain[\"casual\"], test_size=0.3, random_state=23)\n",
    "X_train_casual = X_train_casual.drop(dropAttributes,axis=1)"
   ]
  },
  {
   "cell_type": "markdown",
   "metadata": {},
   "source": [
    "## 4.2. Division pour l'attribut registered"
   ]
  },
  {
   "cell_type": "code",
   "execution_count": 29,
   "metadata": {
    "collapsed": true
   },
   "outputs": [],
   "source": [
    "X_train_regis, X_validate_regis, y_train_regis, y_validate_regis = train_test_split(dataTrain, dataTrain[\"registered\"], test_size=0.3, random_state=23)\n",
    "X_train_regis = X_train_regis.drop(dropAttributes,axis=1)"
   ]
  },
  {
   "cell_type": "markdown",
   "metadata": {},
   "source": [
    "## 4.3. Suppression de colonnes"
   ]
  },
  {
   "cell_type": "code",
   "execution_count": 30,
   "metadata": {
    "collapsed": true
   },
   "outputs": [],
   "source": [
    "dataTest = dataTest.drop(dropAttributes,axis=1)\n",
    "X_validate_casual = X_validate_casual.drop(dropAttributes,axis=1)\n",
    "X_validate_regis = X_validate_regis.drop(dropAttributes,axis=1)"
   ]
  },
  {
   "cell_type": "markdown",
   "metadata": {},
   "source": [
    "# 5.4. RandomForest sur casual et registered"
   ]
  },
  {
   "cell_type": "markdown",
   "metadata": {},
   "source": [
    "### RF registered"
   ]
  },
  {
   "cell_type": "code",
   "execution_count": 31,
   "metadata": {},
   "outputs": [
    {
     "name": "stdout",
     "output_type": "stream",
     "text": [
      "RMSLE Value for Random Forest:  0.33536474738815264\n"
     ]
    }
   ],
   "source": [
    "from sklearn.ensemble import RandomForestRegressor\n",
    "\n",
    "# Initialisation du modèle\n",
    "rfModel = RandomForestRegressor()\n",
    "\n",
    "# Entrainement du modèle sur 70%\n",
    "rfModel.fit(X = X_train_regis ,y = y_train_regis)\n",
    "\n",
    "# Prédiction sur les 30%\n",
    "preds = rfModel.predict(X=X_validate_regis)\n",
    "\n",
    "print (\"RMSLE Value for Random Forest: \", rmsle(y_validate_regis, preds))"
   ]
  },
  {
   "cell_type": "markdown",
   "metadata": {},
   "source": [
    "### RF casual"
   ]
  },
  {
   "cell_type": "code",
   "execution_count": 32,
   "metadata": {},
   "outputs": [
    {
     "name": "stdout",
     "output_type": "stream",
     "text": [
      "RMSLE Value for Random Forest:  0.5507229520334226\n"
     ]
    }
   ],
   "source": [
    "from sklearn.ensemble import RandomForestRegressor\n",
    "\n",
    "# Initialisation du modèle\n",
    "rfModel = RandomForestRegressor()\n",
    "\n",
    "# Entrainement du modèle sur 70%\n",
    "rfModel.fit(X = X_train_casual ,y = y_train_casual)\n",
    "\n",
    "# Prédiction sur les 30%\n",
    "preds = rfModel.predict(X=X_validate_casual)\n",
    "\n",
    "print (\"RMSLE Value for Random Forest: \", rmsle(y_validate_casual, preds))"
   ]
  },
  {
   "cell_type": "markdown",
   "metadata": {},
   "source": [
    "### GBM registered"
   ]
  },
  {
   "cell_type": "code",
   "execution_count": 33,
   "metadata": {},
   "outputs": [
    {
     "name": "stdout",
     "output_type": "stream",
     "text": [
      "RMSLE Value for Gradient Booster:  0.4050752891676665\n"
     ]
    }
   ],
   "source": [
    "gbm = GradientBoostingRegressor()\n",
    "gbm.fit(X = X_train_regis,y = np.log1p(y_train_regis))\n",
    "\n",
    "preds = gbm.predict(X= X_validate_regis)\n",
    "\n",
    "print (\"RMSLE Value for Gradient Booster: \",rmsle(y_validate_regis,np.exp(preds)))"
   ]
  },
  {
   "cell_type": "markdown",
   "metadata": {},
   "source": [
    "### GBM registered avec param"
   ]
  },
  {
   "cell_type": "code",
   "execution_count": 47,
   "metadata": {},
   "outputs": [
    {
     "name": "stdout",
     "output_type": "stream",
     "text": [
      "RMSLE Value:  0.29643534044607023\n"
     ]
    }
   ],
   "source": [
    "gbm = GradientBoostingRegressor()\n",
    "\n",
    "param_grid = { \n",
    "    'n_estimators': [1000]\n",
    "}\n",
    "\n",
    "CV_gbm=GridSearchCV(estimator=gbm,param_grid=param_grid,cv=5)\n",
    "CV_gbm.fit(X = X_train_regis,y = np.log1p(y_train_regis))\n",
    "\n",
    "preds = CV_gbm.predict(X= X_validate_regis)\n",
    "print (\"RMSLE Value: \",rmsle(y_validate_regis,np.exp(preds)))"
   ]
  },
  {
   "cell_type": "markdown",
   "metadata": {},
   "source": [
    "### GBM casual"
   ]
  },
  {
   "cell_type": "code",
   "execution_count": 34,
   "metadata": {},
   "outputs": [
    {
     "name": "stdout",
     "output_type": "stream",
     "text": [
      "RMSLE Value for Gradient Booster:  0.5650130818927526\n"
     ]
    }
   ],
   "source": [
    "gbm = GradientBoostingRegressor()\n",
    "gbm.fit(X = X_train_casual,y = np.log1p(y_train_casual))\n",
    "\n",
    "preds = gbm.predict(X= X_validate_casual)\n",
    "\n",
    "print (\"RMSLE Value for Gradient Booster: \",rmsle(y_validate_casual,np.exp(preds)))"
   ]
  },
  {
   "cell_type": "markdown",
   "metadata": {},
   "source": [
    "### GBM casual avec Param"
   ]
  },
  {
   "cell_type": "code",
   "execution_count": 43,
   "metadata": {},
   "outputs": [
    {
     "name": "stdout",
     "output_type": "stream",
     "text": [
      "RMSLE Value:  0.524663074207053\n"
     ]
    }
   ],
   "source": [
    "gbm = GradientBoostingRegressor()\n",
    "\n",
    "param_grid = { \n",
    "    'n_estimators': [1000]\n",
    "}\n",
    "\n",
    "CV_gbm=GridSearchCV(estimator=gbm,param_grid=param_grid,cv=5)\n",
    "CV_gbm.fit(X = X_train_casual,y = np.log1p(y_train_casual))\n",
    "\n",
    "preds = CV_gbm.predict(X= X_validate_casual)\n",
    "print (\"RMSLE Value: \",rmsle(y_validate_casual,np.exp(preds)))"
   ]
  },
  {
   "cell_type": "markdown",
   "metadata": {},
   "source": [
    "### 3.4.1 Attribut casual"
   ]
  },
  {
   "cell_type": "code",
   "execution_count": 26,
   "metadata": {},
   "outputs": [
    {
     "name": "stderr",
     "output_type": "stream",
     "text": [
      "/home/corentin/anaconda3/lib/python3.7/site-packages/sklearn/ensemble/forest.py:246: FutureWarning: The default value of n_estimators will change from 10 in version 0.20 to 100 in 0.22.\n",
      "  \"10 in version 0.20 to 100 in 0.22.\", FutureWarning)\n"
     ]
    },
    {
     "name": "stdout",
     "output_type": "stream",
     "text": [
      "RMSLE Value for Random Forest (attribute casual):  0.5462454586788593\n"
     ]
    }
   ],
   "source": [
    "# Initialisation du modèle\n",
    "rfModelCasual = RandomForestRegressor()\n",
    "\n",
    "# Entrainement du modèle sur 70% pour casual\n",
    "rfModelCasual.fit(X = X_train_casual,y = y_train_casual)\n",
    "\n",
    "# Prédiction sur les 30% pour casual\n",
    "preds = rfModelCasual.predict(X=X_validate_casual)\n",
    "\n",
    "print (\"RMSLE Value for Random Forest (attribute casual): \", rmsle(y_validate_casual, preds))"
   ]
  },
  {
   "cell_type": "markdown",
   "metadata": {},
   "source": [
    "\n",
    "### 3.4.1 Attribut registered"
   ]
  },
  {
   "cell_type": "code",
   "execution_count": 18,
   "metadata": {},
   "outputs": [
    {
     "name": "stderr",
     "output_type": "stream",
     "text": [
      "/home/corentin/anaconda3/lib/python3.7/site-packages/sklearn/ensemble/forest.py:246: FutureWarning: The default value of n_estimators will change from 10 in version 0.20 to 100 in 0.22.\n",
      "  \"10 in version 0.20 to 100 in 0.22.\", FutureWarning)\n"
     ]
    },
    {
     "name": "stdout",
     "output_type": "stream",
     "text": [
      "RMSLE Value for Random Forest (attribute registered):  0.3330528423727279\n"
     ]
    }
   ],
   "source": [
    "# Initialisation du modèle\n",
    "rfModelRegis = RandomForestRegressor()\n",
    "\n",
    "# Entrainement du modèle sur 70% pour casual\n",
    "rfModelRegis.fit(X = X_train_regis,y = y_train_regis)\n",
    "\n",
    "# Prédiction sur les 30% pour casual\n",
    "preds = rfModelRegis.predict(X=X_validate_regis)\n",
    "\n",
    "print (\"RMSLE Value for Random Forest (attribute registered): \", rmsle(y_validate_regis, preds))"
   ]
  },
  {
   "cell_type": "markdown",
   "metadata": {},
   "source": [
    "## 3.5 Utilisation des modèles entrainés\n",
    "\n",
    "On utilise ces modèles pour prédire les attributs casual et registered de `test.csv` (soit `dataTest`)."
   ]
  },
  {
   "cell_type": "code",
   "execution_count": 19,
   "metadata": {
    "collapsed": true
   },
   "outputs": [],
   "source": [
    "predsCasual = rfModelCasual.predict(X=dataTest)\n",
    "predsRegis = rfModelRegis.predict(X=dataTest)\n",
    "preds = predsCasual + predsRegis"
   ]
  },
  {
   "cell_type": "code",
   "execution_count": 20,
   "metadata": {},
   "outputs": [
    {
     "data": {
      "image/png": "[encoded data removed]",
      "text/plain": [
       "<Figure size 1368x648 with 1 Axes>"
      ]
     },
     "metadata": {
      "needs_background": "light"
     },
     "output_type": "display_data"
    }
   ],
   "source": [
    "dTrain = pd.read_csv('data/train.csv') # 1 au 19 du mois (avec count)\n",
    "dTrain.datetime = pd.to_datetime(dTrain.datetime)\n",
    "dTrain.index = dTrain.datetime\n",
    "\n",
    "dTest = pd.read_csv('data/test.csv') # 19 à fin du mois (sans count)\n",
    "dTest.datetime = pd.to_datetime(dTest.datetime)\n",
    "dTest.index = dTest.datetime\n",
    "\n",
    "dTest[\"count\"] = preds\n",
    "\n",
    "dTest['count'].plot(figsize=(19,9), title=\"Bike Sharing Test\", fontsize=14)\n",
    "dTrain['count'].plot(figsize=(19,9), title=\"Bike Sharing Train\", fontsize=14)\n",
    "plt.show()"
   ]
  },
  {
   "cell_type": "markdown",
   "metadata": {},
   "source": [
    "# 4. Création de submission.csv\n",
    "\n",
    "On crée un fichier de submission en utilisant le template utilisé par Kaggle en y ajoutant nos résultats pour count.\n",
    "On sauvegarde ce fichier dans le dossier /submissions/ avec un nom daté."
   ]
  },
  {
   "cell_type": "code",
   "execution_count": 21,
   "metadata": {
    "collapsed": true
   },
   "outputs": [],
   "source": [
    "import datetime\n",
    "from time import strftime\n",
    "now = datetime.datetime.now()\n",
    "now = datetime.datetime.strftime(now, '%Y-%m-%d_%H:%M')\n",
    "\n",
    "submission = pd.read_csv('data/submission.csv')\n",
    "submission[\"count\"] = preds\n",
    "\n",
    "submission.to_csv('submissions/submission_'+now, index=False)"
   ]
  }
 ],
 "metadata": {
  "kernelspec": {
   "display_name": "Python 3",
   "language": "python",
   "name": "python3"
  },
  "language_info": {
   "codemirror_mode": {
    "name": "ipython",
    "version": 3
   },
   "file_extension": ".py",
   "mimetype": "text/x-python",
   "name": "python",
   "nbconvert_exporter": "python",
   "pygments_lexer": "ipython3",
   "version": "3.6.3"
  }
 },
 "nbformat": 4,
 "nbformat_minor": 2
}
